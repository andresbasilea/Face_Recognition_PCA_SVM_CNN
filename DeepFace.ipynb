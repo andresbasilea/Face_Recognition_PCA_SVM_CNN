{
  "cells": [
    {
      "attachments": {},
      "cell_type": "markdown",
      "metadata": {},
      "source": [
        "### Face recognition"
      ]
    },
    {
      "cell_type": "code",
      "execution_count": 2,
      "metadata": {},
      "outputs": [
        {
          "name": "stdout",
          "output_type": "stream",
          "text": [
            "Collecting deepface\n",
            "  Using cached deepface-0.0.79-py3-none-any.whl (49 kB)\n",
            "Requirement already satisfied: numpy>=1.14.0 in c:\\users\\rodol\\appdata\\roaming\\python\\python310\\site-packages (from deepface) (1.24.3)\n",
            "Requirement already satisfied: tensorflow>=1.9.0 in c:\\users\\rodol\\appdata\\roaming\\python\\python310\\site-packages (from deepface) (2.12.0)\n",
            "Collecting retina-face>=0.0.1\n",
            "  Using cached retina_face-0.0.13-py3-none-any.whl (16 kB)\n",
            "Requirement already satisfied: Pillow>=5.2.0 in c:\\programdata\\anaconda3\\lib\\site-packages (from deepface) (9.4.0)\n",
            "Collecting mtcnn>=0.1.0\n",
            "  Using cached mtcnn-0.1.1-py3-none-any.whl (2.3 MB)\n",
            "Collecting fire>=0.4.0\n",
            "  Using cached fire-0.5.0-py2.py3-none-any.whl\n",
            "Requirement already satisfied: tqdm>=4.30.0 in c:\\users\\rodol\\appdata\\roaming\\python\\python310\\site-packages (from deepface) (4.65.0)\n",
            "Collecting gdown>=3.10.1\n",
            "  Using cached gdown-4.7.1-py3-none-any.whl (15 kB)\n",
            "Requirement already satisfied: pandas>=0.23.4 in c:\\users\\rodol\\appdata\\roaming\\python\\python310\\site-packages (from deepface) (1.5.3)\n",
            "Requirement already satisfied: Flask>=1.1.2 in c:\\programdata\\anaconda3\\lib\\site-packages (from deepface) (2.2.2)\n",
            "Collecting gunicorn>=20.1.0\n",
            "  Using cached gunicorn-20.1.0-py3-none-any.whl (79 kB)\n",
            "Collecting opencv-python>=4.5.5.64\n",
            "  Using cached opencv_python-4.7.0.72-cp37-abi3-win_amd64.whl (38.2 MB)\n",
            "Requirement already satisfied: keras>=2.2.0 in c:\\programdata\\anaconda3\\lib\\site-packages (from deepface) (2.12.0)\n",
            "Requirement already satisfied: termcolor in c:\\programdata\\anaconda3\\lib\\site-packages (from fire>=0.4.0->deepface) (2.3.0)\n",
            "Requirement already satisfied: six in c:\\programdata\\anaconda3\\lib\\site-packages (from fire>=0.4.0->deepface) (1.16.0)\n",
            "Requirement already satisfied: itsdangerous>=2.0 in c:\\programdata\\anaconda3\\lib\\site-packages (from Flask>=1.1.2->deepface) (2.0.1)\n",
            "Requirement already satisfied: Werkzeug>=2.2.2 in c:\\programdata\\anaconda3\\lib\\site-packages (from Flask>=1.1.2->deepface) (2.2.2)\n",
            "Requirement already satisfied: Jinja2>=3.0 in c:\\programdata\\anaconda3\\lib\\site-packages (from Flask>=1.1.2->deepface) (3.1.2)\n",
            "Requirement already satisfied: click>=8.0 in c:\\users\\rodol\\appdata\\roaming\\python\\python310\\site-packages (from Flask>=1.1.2->deepface) (8.1.3)\n",
            "Requirement already satisfied: filelock in c:\\programdata\\anaconda3\\lib\\site-packages (from gdown>=3.10.1->deepface) (3.9.0)\n",
            "Requirement already satisfied: requests[socks] in c:\\programdata\\anaconda3\\lib\\site-packages (from gdown>=3.10.1->deepface) (2.28.1)\n",
            "Requirement already satisfied: beautifulsoup4 in c:\\programdata\\anaconda3\\lib\\site-packages (from gdown>=3.10.1->deepface) (4.11.1)\n",
            "Requirement already satisfied: setuptools>=3.0 in c:\\programdata\\anaconda3\\lib\\site-packages (from gunicorn>=20.1.0->deepface) (65.6.3)\n",
            "Requirement already satisfied: python-dateutil>=2.8.1 in c:\\programdata\\anaconda3\\lib\\site-packages (from pandas>=0.23.4->deepface) (2.8.2)\n",
            "Requirement already satisfied: pytz>=2020.1 in c:\\programdata\\anaconda3\\lib\\site-packages (from pandas>=0.23.4->deepface) (2022.7)\n",
            "Requirement already satisfied: tensorflow-intel==2.12.0 in c:\\users\\rodol\\appdata\\roaming\\python\\python310\\site-packages (from tensorflow>=1.9.0->deepface) (2.12.0)\n",
            "Requirement already satisfied: grpcio<2.0,>=1.24.3 in c:\\programdata\\anaconda3\\lib\\site-packages (from tensorflow-intel==2.12.0->tensorflow>=1.9.0->deepface) (1.54.0)\n",
            "Requirement already satisfied: gast<=0.4.0,>=0.2.1 in c:\\programdata\\anaconda3\\lib\\site-packages (from tensorflow-intel==2.12.0->tensorflow>=1.9.0->deepface) (0.4.0)\n",
            "Requirement already satisfied: google-pasta>=0.1.1 in c:\\programdata\\anaconda3\\lib\\site-packages (from tensorflow-intel==2.12.0->tensorflow>=1.9.0->deepface) (0.2.0)\n",
            "Requirement already satisfied: tensorflow-io-gcs-filesystem>=0.23.1 in c:\\programdata\\anaconda3\\lib\\site-packages (from tensorflow-intel==2.12.0->tensorflow>=1.9.0->deepface) (0.31.0)\n",
            "Requirement already satisfied: tensorboard<2.13,>=2.12 in c:\\programdata\\anaconda3\\lib\\site-packages (from tensorflow-intel==2.12.0->tensorflow>=1.9.0->deepface) (2.12.3)\n",
            "Requirement already satisfied: typing-extensions>=3.6.6 in c:\\programdata\\anaconda3\\lib\\site-packages (from tensorflow-intel==2.12.0->tensorflow>=1.9.0->deepface) (4.4.0)\n",
            "Requirement already satisfied: libclang>=13.0.0 in c:\\programdata\\anaconda3\\lib\\site-packages (from tensorflow-intel==2.12.0->tensorflow>=1.9.0->deepface) (16.0.0)\n",
            "Requirement already satisfied: packaging in c:\\programdata\\anaconda3\\lib\\site-packages (from tensorflow-intel==2.12.0->tensorflow>=1.9.0->deepface) (22.0)\n",
            "Requirement already satisfied: h5py>=2.9.0 in c:\\programdata\\anaconda3\\lib\\site-packages (from tensorflow-intel==2.12.0->tensorflow>=1.9.0->deepface) (3.7.0)\n",
            "Requirement already satisfied: opt-einsum>=2.3.2 in c:\\programdata\\anaconda3\\lib\\site-packages (from tensorflow-intel==2.12.0->tensorflow>=1.9.0->deepface) (3.3.0)\n",
            "Requirement already satisfied: astunparse>=1.6.0 in c:\\programdata\\anaconda3\\lib\\site-packages (from tensorflow-intel==2.12.0->tensorflow>=1.9.0->deepface) (1.6.3)\n",
            "Requirement already satisfied: wrapt<1.15,>=1.11.0 in c:\\programdata\\anaconda3\\lib\\site-packages (from tensorflow-intel==2.12.0->tensorflow>=1.9.0->deepface) (1.14.1)\n",
            "Requirement already satisfied: tensorflow-estimator<2.13,>=2.12.0 in c:\\programdata\\anaconda3\\lib\\site-packages (from tensorflow-intel==2.12.0->tensorflow>=1.9.0->deepface) (2.12.0)\n",
            "Collecting numpy>=1.14.0\n",
            "  Using cached numpy-1.23.5-cp310-cp310-win_amd64.whl (14.6 MB)\n",
            "Requirement already satisfied: flatbuffers>=2.0 in c:\\programdata\\anaconda3\\lib\\site-packages (from tensorflow-intel==2.12.0->tensorflow>=1.9.0->deepface) (23.5.8)\n",
            "Requirement already satisfied: protobuf!=4.21.0,!=4.21.1,!=4.21.2,!=4.21.3,!=4.21.4,!=4.21.5,<5.0.0dev,>=3.20.3 in c:\\programdata\\anaconda3\\lib\\site-packages (from tensorflow-intel==2.12.0->tensorflow>=1.9.0->deepface) (4.23.0)\n",
            "Requirement already satisfied: absl-py>=1.0.0 in c:\\programdata\\anaconda3\\lib\\site-packages (from tensorflow-intel==2.12.0->tensorflow>=1.9.0->deepface) (1.4.0)\n",
            "Requirement already satisfied: jax>=0.3.15 in c:\\users\\rodol\\appdata\\roaming\\python\\python310\\site-packages (from tensorflow-intel==2.12.0->tensorflow>=1.9.0->deepface) (0.4.10)\n",
            "Requirement already satisfied: colorama in c:\\programdata\\anaconda3\\lib\\site-packages (from tqdm>=4.30.0->deepface) (0.4.6)\n",
            "Requirement already satisfied: MarkupSafe>=2.0 in c:\\programdata\\anaconda3\\lib\\site-packages (from Jinja2>=3.0->Flask>=1.1.2->deepface) (2.1.1)\n",
            "Requirement already satisfied: soupsieve>1.2 in c:\\programdata\\anaconda3\\lib\\site-packages (from beautifulsoup4->gdown>=3.10.1->deepface) (2.3.2.post1)\n",
            "Requirement already satisfied: idna<4,>=2.5 in c:\\programdata\\anaconda3\\lib\\site-packages (from requests[socks]->gdown>=3.10.1->deepface) (3.4)\n",
            "Requirement already satisfied: urllib3<1.27,>=1.21.1 in c:\\programdata\\anaconda3\\lib\\site-packages (from requests[socks]->gdown>=3.10.1->deepface) (1.26.14)\n",
            "Requirement already satisfied: charset-normalizer<3,>=2 in c:\\programdata\\anaconda3\\lib\\site-packages (from requests[socks]->gdown>=3.10.1->deepface) (2.0.4)\n",
            "Requirement already satisfied: certifi>=2017.4.17 in c:\\programdata\\anaconda3\\lib\\site-packages (from requests[socks]->gdown>=3.10.1->deepface) (2022.12.7)\n",
            "Requirement already satisfied: PySocks!=1.5.7,>=1.5.6 in c:\\programdata\\anaconda3\\lib\\site-packages (from requests[socks]->gdown>=3.10.1->deepface) (1.7.1)\n",
            "Requirement already satisfied: wheel<1.0,>=0.23.0 in c:\\programdata\\anaconda3\\lib\\site-packages (from astunparse>=1.6.0->tensorflow-intel==2.12.0->tensorflow>=1.9.0->deepface) (0.38.4)\n",
            "Requirement already satisfied: scipy>=1.7 in c:\\programdata\\anaconda3\\lib\\site-packages (from jax>=0.3.15->tensorflow-intel==2.12.0->tensorflow>=1.9.0->deepface) (1.10.0)\n",
            "Requirement already satisfied: ml-dtypes>=0.1.0 in c:\\users\\rodol\\appdata\\roaming\\python\\python310\\site-packages (from jax>=0.3.15->tensorflow-intel==2.12.0->tensorflow>=1.9.0->deepface) (0.1.0)\n",
            "Requirement already satisfied: google-auth<3,>=1.6.3 in c:\\programdata\\anaconda3\\lib\\site-packages (from tensorboard<2.13,>=2.12->tensorflow-intel==2.12.0->tensorflow>=1.9.0->deepface) (2.17.3)\n",
            "Requirement already satisfied: markdown>=2.6.8 in c:\\programdata\\anaconda3\\lib\\site-packages (from tensorboard<2.13,>=2.12->tensorflow-intel==2.12.0->tensorflow>=1.9.0->deepface) (3.4.1)\n",
            "Requirement already satisfied: tensorboard-data-server<0.8.0,>=0.7.0 in c:\\programdata\\anaconda3\\lib\\site-packages (from tensorboard<2.13,>=2.12->tensorflow-intel==2.12.0->tensorflow>=1.9.0->deepface) (0.7.0)\n",
            "Requirement already satisfied: google-auth-oauthlib<1.1,>=0.5 in c:\\programdata\\anaconda3\\lib\\site-packages (from tensorboard<2.13,>=2.12->tensorflow-intel==2.12.0->tensorflow>=1.9.0->deepface) (1.0.0)\n",
            "Requirement already satisfied: rsa<5,>=3.1.4 in c:\\programdata\\anaconda3\\lib\\site-packages (from google-auth<3,>=1.6.3->tensorboard<2.13,>=2.12->tensorflow-intel==2.12.0->tensorflow>=1.9.0->deepface) (4.9)\n",
            "Requirement already satisfied: cachetools<6.0,>=2.0.0 in c:\\programdata\\anaconda3\\lib\\site-packages (from google-auth<3,>=1.6.3->tensorboard<2.13,>=2.12->tensorflow-intel==2.12.0->tensorflow>=1.9.0->deepface) (5.3.0)\n",
            "Requirement already satisfied: pyasn1-modules>=0.2.1 in c:\\programdata\\anaconda3\\lib\\site-packages (from google-auth<3,>=1.6.3->tensorboard<2.13,>=2.12->tensorflow-intel==2.12.0->tensorflow>=1.9.0->deepface) (0.2.8)\n",
            "Requirement already satisfied: requests-oauthlib>=0.7.0 in c:\\programdata\\anaconda3\\lib\\site-packages (from google-auth-oauthlib<1.1,>=0.5->tensorboard<2.13,>=2.12->tensorflow-intel==2.12.0->tensorflow>=1.9.0->deepface) (1.3.1)\n",
            "Requirement already satisfied: pyasn1<0.5.0,>=0.4.6 in c:\\programdata\\anaconda3\\lib\\site-packages (from pyasn1-modules>=0.2.1->google-auth<3,>=1.6.3->tensorboard<2.13,>=2.12->tensorflow-intel==2.12.0->tensorflow>=1.9.0->deepface) (0.4.8)\n",
            "Requirement already satisfied: oauthlib>=3.0.0 in c:\\programdata\\anaconda3\\lib\\site-packages (from requests-oauthlib>=0.7.0->google-auth-oauthlib<1.1,>=0.5->tensorboard<2.13,>=2.12->tensorflow-intel==2.12.0->tensorflow>=1.9.0->deepface) (3.2.2)\n",
            "Installing collected packages: numpy, gunicorn, fire, opencv-python, mtcnn, gdown, retina-face, deepface\n",
            "  Attempting uninstall: numpy\n",
            "    Found existing installation: numpy 1.24.3\n",
            "    Uninstalling numpy-1.24.3:\n",
            "      Successfully uninstalled numpy-1.24.3\n",
            "Successfully installed deepface-0.0.79 fire-0.5.0 gdown-4.7.1 gunicorn-20.1.0 mtcnn-0.1.1 numpy-1.23.5 opencv-python-4.7.0.72 retina-face-0.0.13\n"
          ]
        },
        {
          "name": "stderr",
          "output_type": "stream",
          "text": [
            "WARNING: Ignoring invalid distribution -oblib (c:\\programdata\\anaconda3\\lib\\site-packages)\n",
            "WARNING: Ignoring invalid distribution -ensim (c:\\programdata\\anaconda3\\lib\\site-packages)\n",
            "WARNING: Ignoring invalid distribution -cikit-learn (c:\\programdata\\anaconda3\\lib\\site-packages)\n",
            "WARNING: Ignoring invalid distribution -oblib (c:\\programdata\\anaconda3\\lib\\site-packages)\n",
            "WARNING: Ignoring invalid distribution -ensim (c:\\programdata\\anaconda3\\lib\\site-packages)\n",
            "WARNING: Ignoring invalid distribution -cikit-learn (c:\\programdata\\anaconda3\\lib\\site-packages)\n",
            "WARNING: Ignoring invalid distribution -oblib (c:\\programdata\\anaconda3\\lib\\site-packages)\n",
            "WARNING: Ignoring invalid distribution -ensim (c:\\programdata\\anaconda3\\lib\\site-packages)\n",
            "WARNING: Ignoring invalid distribution -cikit-learn (c:\\programdata\\anaconda3\\lib\\site-packages)\n",
            "  WARNING: The script f2py.exe is installed in 'C:\\Users\\rodol\\AppData\\Roaming\\Python\\Python310\\Scripts' which is not on PATH.\n",
            "  Consider adding this directory to PATH or, if you prefer to suppress this warning, use --no-warn-script-location.\n",
            "  WARNING: The script gunicorn.exe is installed in 'C:\\Users\\rodol\\AppData\\Roaming\\Python\\Python310\\Scripts' which is not on PATH.\n",
            "  Consider adding this directory to PATH or, if you prefer to suppress this warning, use --no-warn-script-location.\n",
            "  WARNING: The script gdown.exe is installed in 'C:\\Users\\rodol\\AppData\\Roaming\\Python\\Python310\\Scripts' which is not on PATH.\n",
            "  Consider adding this directory to PATH or, if you prefer to suppress this warning, use --no-warn-script-location.\n",
            "  WARNING: The script deepface.exe is installed in 'C:\\Users\\rodol\\AppData\\Roaming\\Python\\Python310\\Scripts' which is not on PATH.\n",
            "  Consider adding this directory to PATH or, if you prefer to suppress this warning, use --no-warn-script-location.\n",
            "ERROR: pip's dependency resolver does not currently take into account all the packages that are installed. This behaviour is the source of the following dependency conflicts.\n",
            "pyldavis 3.4.1 requires numpy>=1.24.2, but you have numpy 1.23.5 which is incompatible.\n",
            "pyldavis 3.4.1 requires pandas>=2.0.0, but you have pandas 1.5.3 which is incompatible.\n",
            "WARNING: Ignoring invalid distribution -oblib (c:\\programdata\\anaconda3\\lib\\site-packages)\n",
            "WARNING: Ignoring invalid distribution -ensim (c:\\programdata\\anaconda3\\lib\\site-packages)\n",
            "WARNING: Ignoring invalid distribution -cikit-learn (c:\\programdata\\anaconda3\\lib\\site-packages)\n",
            "WARNING: Ignoring invalid distribution -oblib (c:\\programdata\\anaconda3\\lib\\site-packages)\n",
            "WARNING: Ignoring invalid distribution -ensim (c:\\programdata\\anaconda3\\lib\\site-packages)\n",
            "WARNING: Ignoring invalid distribution -cikit-learn (c:\\programdata\\anaconda3\\lib\\site-packages)\n",
            "WARNING: Ignoring invalid distribution -oblib (c:\\programdata\\anaconda3\\lib\\site-packages)\n",
            "WARNING: Ignoring invalid distribution -ensim (c:\\programdata\\anaconda3\\lib\\site-packages)\n",
            "WARNING: Ignoring invalid distribution -cikit-learn (c:\\programdata\\anaconda3\\lib\\site-packages)\n"
          ]
        }
      ],
      "source": [
        "!pip install deepface --user"
      ]
    },
    {
      "cell_type": "code",
      "execution_count": 1,
      "metadata": {},
      "outputs": [],
      "source": [
        "from deepface import DeepFace\n",
        "from deepface.basemodels import VGGFace\n",
        "import pandas as pd\n",
        "import os"
      ]
    },
    {
      "attachments": {},
      "cell_type": "markdown",
      "metadata": {},
      "source": [
        "Face Verification"
      ]
    },
    {
      "cell_type": "code",
      "execution_count": 16,
      "metadata": {},
      "outputs": [
        {
          "data": {
            "text/plain": [
              "{'verified': True,\n",
              " 'distance': 0.33684341773875404,\n",
              " 'threshold': 0.4,\n",
              " 'model': 'VGG-Face',\n",
              " 'detector_backend': 'opencv',\n",
              " 'similarity_metric': 'cosine',\n",
              " 'facial_areas': {'img1': {'x': 748, 'y': 1732, 'w': 2038, 'h': 2038},\n",
              "  'img2': {'x': 891, 'y': 1597, 'w': 1981, 'h': 1981}},\n",
              " 'time': 4.61}"
            ]
          },
          "execution_count": 16,
          "metadata": {},
          "output_type": "execute_result"
        }
      ],
      "source": [
        "result = DeepFace.verify(img1_path = \"lfw_10_train\\Andres_Basile\\Andres_Basile_0007.jpg\", img2_path = \"lfw_10_train\\Andres_Basile\\Andres_Basile_0008.jpg\")\n",
        "result"
      ]
    },
    {
      "cell_type": "code",
      "execution_count": 10,
      "metadata": {},
      "outputs": [
        {
          "data": {
            "text/plain": [
              "{'verified': False,\n",
              " 'distance': 0.530030337993177,\n",
              " 'threshold': 0.4,\n",
              " 'model': 'VGG-Face',\n",
              " 'detector_backend': 'opencv',\n",
              " 'similarity_metric': 'cosine',\n",
              " 'facial_areas': {'img1': {'x': 75, 'y': 470, 'w': 1147, 'h': 1147},\n",
              "  'img2': {'x': 264, 'y': 224, 'w': 117, 'h': 117}},\n",
              " 'time': 1.27}"
            ]
          },
          "execution_count": 10,
          "metadata": {},
          "output_type": "execute_result"
        }
      ],
      "source": [
        "result = DeepFace.verify(img1_path = \"lfw_10_train\\Rodolfo_Keller\\Rodolfo_Keller_0016.jpg\", img2_path = \"lfw_10_train\\Shuai_Shen\\Shuai_Shen_0004.jpg\")\n",
        "result"
      ]
    },
    {
      "cell_type": "code",
      "execution_count": 78,
      "metadata": {},
      "outputs": [],
      "source": [
        "model = VGGFace.loadModel()"
      ]
    },
    {
      "attachments": {},
      "cell_type": "markdown",
      "metadata": {},
      "source": [
        "Facial Attribute Analysis"
      ]
    },
    {
      "cell_type": "code",
      "execution_count": 32,
      "metadata": {},
      "outputs": [
        {
          "name": "stderr",
          "output_type": "stream",
          "text": [
            "Action: emotion: 100%|██████████| 4/4 [00:01<00:00,  3.49it/s]\n"
          ]
        },
        {
          "data": {
            "text/plain": [
              "[{'age': 24,\n",
              "  'region': {'x': 790, 'y': 1316, 'w': 1453, 'h': 1453},\n",
              "  'gender': {'Woman': 0.01571770553709939, 'Man': 99.98427629470825},\n",
              "  'dominant_gender': 'Man',\n",
              "  'race': {'asian': 27.49383419825623,\n",
              "   'indian': 9.754058300965035,\n",
              "   'black': 3.6250195801234746,\n",
              "   'white': 16.200340843160053,\n",
              "   'middle eastern': 12.520083782662894,\n",
              "   'latino hispanic': 30.406659197013475},\n",
              "  'dominant_race': 'latino hispanic',\n",
              "  'emotion': {'angry': 1.0476135034994487,\n",
              "   'disgust': 0.0006019225828778843,\n",
              "   'fear': 4.592878546461885,\n",
              "   'happy': 0.031253702124090746,\n",
              "   'sad': 7.662449945503467,\n",
              "   'surprise': 0.0013578513771574723,\n",
              "   'neutral': 86.66384657190402},\n",
              "  'dominant_emotion': 'neutral'}]"
            ]
          },
          "execution_count": 32,
          "metadata": {},
          "output_type": "execute_result"
        }
      ],
      "source": [
        "objs = DeepFace.analyze(img_path = \"lfw_10_train\\Rodolfo_Keller\\Rodolfo_Keller_0020.jpg\", actions = ['age', 'gender', 'race', 'emotion'])\n",
        "objs"
      ]
    },
    {
      "cell_type": "code",
      "execution_count": 33,
      "metadata": {},
      "outputs": [
        {
          "name": "stderr",
          "output_type": "stream",
          "text": [
            "Action: emotion: 100%|██████████| 4/4 [00:01<00:00,  3.86it/s]\n"
          ]
        },
        {
          "data": {
            "text/plain": [
              "[{'age': 34,\n",
              "  'region': {'x': 673, 'y': 1183, 'w': 1612, 'h': 1612},\n",
              "  'gender': {'Woman': 7.471037656068802, 'Man': 92.52896308898926},\n",
              "  'dominant_gender': 'Man',\n",
              "  'race': {'asian': 4.691610392428064,\n",
              "   'indian': 2.2022613705552443,\n",
              "   'black': 2.2642787032889546,\n",
              "   'white': 55.14374107979185,\n",
              "   'middle eastern': 22.090500419765736,\n",
              "   'latino hispanic': 13.607605612731314},\n",
              "  'dominant_race': 'white',\n",
              "  'emotion': {'angry': 1.7603579072023135e-05,\n",
              "   'disgust': 3.777605555458021e-08,\n",
              "   'fear': 19.02701478874507,\n",
              "   'happy': 3.0085679282465065,\n",
              "   'sad': 77.27058204763149,\n",
              "   'surprise': 7.80119726412656e-05,\n",
              "   'neutral': 0.6937357701378143},\n",
              "  'dominant_emotion': 'sad'}]"
            ]
          },
          "execution_count": 33,
          "metadata": {},
          "output_type": "execute_result"
        }
      ],
      "source": [
        "objs2 = DeepFace.analyze(img_path = \"lfw_10_train\\Rodolfo_Keller\\Rodolfo_Keller_0001.jpg\", actions = ['age', 'gender', 'race', 'emotion'])\n",
        "objs2"
      ]
    },
    {
      "attachments": {},
      "cell_type": "markdown",
      "metadata": {},
      "source": [
        "### Face Recognition"
      ]
    },
    {
      "cell_type": "code",
      "execution_count": 11,
      "metadata": {},
      "outputs": [],
      "source": [
        "def extract_first_name(identity):\n",
        "    # Divide la cadena de la ruta en partes\n",
        "    parts = os.path.normpath(identity).split(os.path.sep)\n",
        "    # Obtiene el número de imagen (último fragmento de la ruta)\n",
        "    picture_number = parts[2].split(\"_\")[-1].split(\".\")[0]\n",
        "    # Obtiene el primer nombre después de las dos carpetas de inicio\n",
        "    first_name = parts[2].split(\"_\")[0] + \" \" + parts[2].split(\"_\")[1]\n",
        "    return first_name, picture_number\n",
        "\n",
        "# model = VGGFace.loadModel()\n",
        "\n",
        "def FaceRecognition(img_path_usr, db_path_usr):\n",
        "    dfs2 = DeepFace.find(img_path = img_path_usr, db_path = db_path_usr, model_name = \"VGG-Face\", distance_metric =\"cosine\" )\n",
        "    dfs2_convertido = pd.DataFrame(dfs2[0], columns=['identity', 'source_x', 'source_y', 'source_w', 'source_h', 'VGG-Face_cosine'])\n",
        "    dfs2_convertido_nombre = dfs2_convertido\n",
        "\n",
        "    # Aplica la función a la columna 'identity' y crea dos nuevas columnas 'first_name' y 'num_imagen'\n",
        "    dfs2_convertido[['first_name', 'num_imagen']] = dfs2_convertido['identity'].apply(extract_first_name).apply(pd.Series)\n",
        "    # Columnas deseadas\n",
        "    dfs2_salida = dfs2_convertido_nombre[['first_name','num_imagen', 'VGG-Face_cosine']]\n",
        "    # Damos formato a la salida de la métrica de distancia\n",
        "    dfs2_salida['VGG-Face_cosine'] = dfs2_salida['VGG-Face_cosine'].apply(lambda x: '{:.6f}'.format(x))\n",
        "    return dfs2_salida\n",
        "\n",
        "def BestRecognition(img_path_usr, db_path_usr):\n",
        "    dfs2_salida = FaceRecognition(img_path_usr, db_path_usr)\n",
        "    if dfs2_salida.loc[0, 'VGG-Face_cosine'] == 0:               #En caso de reconocer la misma imagen\n",
        "        first_name = dfs2_salida.loc[1, 'first_name']\n",
        "    else:\n",
        "        first_name = dfs2_salida.loc[0, 'first_name']\n",
        "    return str(first_name)\n"
      ]
    },
    {
      "cell_type": "code",
      "execution_count": 12,
      "metadata": {},
      "outputs": [
        {
          "name": "stdout",
          "output_type": "stream",
          "text": [
            "WARNING: Representations for images in lfw_10_train folder were previously stored in representations_vgg_face.pkl. If you added new instances after the creation, then please delete this file and call find function again. It will create it again.\n",
            "There are  685  representations found in  representations_vgg_face.pkl\n",
            "find function lasts  3.9141898155212402  seconds\n"
          ]
        },
        {
          "data": {
            "text/plain": [
              "'Rodolfo Keller'"
            ]
          },
          "execution_count": 12,
          "metadata": {},
          "output_type": "execute_result"
        }
      ],
      "source": [
        "df = BestRecognition(\"lfw_10_train\\Rodolfo_Keller\\Rodolfo_Keller_0020.jpg\", \"lfw_10_train\")\n",
        "df"
      ]
    },
    {
      "cell_type": "code",
      "execution_count": 13,
      "metadata": {},
      "outputs": [
        {
          "name": "stdout",
          "output_type": "stream",
          "text": [
            "WARNING: Representations for images in lfw_10_train folder were previously stored in representations_vgg_face.pkl. If you added new instances after the creation, then please delete this file and call find function again. It will create it again.\n",
            "There are  685  representations found in  representations_vgg_face.pkl\n",
            "find function lasts  2.9673943519592285  seconds\n"
          ]
        },
        {
          "data": {
            "text/plain": [
              "'Shuai Shen'"
            ]
          },
          "execution_count": 13,
          "metadata": {},
          "output_type": "execute_result"
        }
      ],
      "source": [
        "df = BestRecognition(\"lfw_10_train\\Shuai_Shen\\Shuai_Shen_0004.jpg\", \"lfw_10_train\")\n",
        "df"
      ]
    },
    {
      "cell_type": "code",
      "execution_count": 14,
      "metadata": {},
      "outputs": [
        {
          "name": "stdout",
          "output_type": "stream",
          "text": [
            "WARNING: Representations for images in lfw_10_train folder were previously stored in representations_vgg_face.pkl. If you added new instances after the creation, then please delete this file and call find function again. It will create it again.\n",
            "There are  685  representations found in  representations_vgg_face.pkl\n",
            "find function lasts  2.734076976776123  seconds\n"
          ]
        },
        {
          "data": {
            "text/html": [
              "<div>\n",
              "<style scoped>\n",
              "    .dataframe tbody tr th:only-of-type {\n",
              "        vertical-align: middle;\n",
              "    }\n",
              "\n",
              "    .dataframe tbody tr th {\n",
              "        vertical-align: top;\n",
              "    }\n",
              "\n",
              "    .dataframe thead th {\n",
              "        text-align: right;\n",
              "    }\n",
              "</style>\n",
              "<table border=\"1\" class=\"dataframe\">\n",
              "  <thead>\n",
              "    <tr style=\"text-align: right;\">\n",
              "      <th></th>\n",
              "      <th>first_name</th>\n",
              "      <th>num_imagen</th>\n",
              "      <th>VGG-Face_cosine</th>\n",
              "    </tr>\n",
              "  </thead>\n",
              "  <tbody>\n",
              "    <tr>\n",
              "      <th>0</th>\n",
              "      <td>Rodolfo Keller</td>\n",
              "      <td>0016</td>\n",
              "      <td>0.093599</td>\n",
              "    </tr>\n",
              "    <tr>\n",
              "      <th>1</th>\n",
              "      <td>Rodolfo Keller</td>\n",
              "      <td>0011</td>\n",
              "      <td>0.099244</td>\n",
              "    </tr>\n",
              "    <tr>\n",
              "      <th>2</th>\n",
              "      <td>Rodolfo Keller</td>\n",
              "      <td>0007</td>\n",
              "      <td>0.145168</td>\n",
              "    </tr>\n",
              "    <tr>\n",
              "      <th>3</th>\n",
              "      <td>Rodolfo Keller</td>\n",
              "      <td>0014</td>\n",
              "      <td>0.157611</td>\n",
              "    </tr>\n",
              "    <tr>\n",
              "      <th>4</th>\n",
              "      <td>Rodolfo Keller</td>\n",
              "      <td>0012</td>\n",
              "      <td>0.275746</td>\n",
              "    </tr>\n",
              "    <tr>\n",
              "      <th>5</th>\n",
              "      <td>Rodolfo Keller</td>\n",
              "      <td>0005</td>\n",
              "      <td>0.278280</td>\n",
              "    </tr>\n",
              "    <tr>\n",
              "      <th>6</th>\n",
              "      <td>Tiger Woods</td>\n",
              "      <td>0007</td>\n",
              "      <td>0.332289</td>\n",
              "    </tr>\n",
              "    <tr>\n",
              "      <th>7</th>\n",
              "      <td>Rodolfo Keller</td>\n",
              "      <td>0021</td>\n",
              "      <td>0.342757</td>\n",
              "    </tr>\n",
              "    <tr>\n",
              "      <th>8</th>\n",
              "      <td>Rodolfo Keller</td>\n",
              "      <td>0023</td>\n",
              "      <td>0.348699</td>\n",
              "    </tr>\n",
              "    <tr>\n",
              "      <th>9</th>\n",
              "      <td>Lleyton Hewitt</td>\n",
              "      <td>0001</td>\n",
              "      <td>0.366537</td>\n",
              "    </tr>\n",
              "    <tr>\n",
              "      <th>10</th>\n",
              "      <td>Rodolfo Keller</td>\n",
              "      <td>0022</td>\n",
              "      <td>0.385998</td>\n",
              "    </tr>\n",
              "    <tr>\n",
              "      <th>11</th>\n",
              "      <td>Igor Ivanov</td>\n",
              "      <td>0008</td>\n",
              "      <td>0.386436</td>\n",
              "    </tr>\n",
              "    <tr>\n",
              "      <th>12</th>\n",
              "      <td>Recep Tayyip</td>\n",
              "      <td>0007</td>\n",
              "      <td>0.388167</td>\n",
              "    </tr>\n",
              "    <tr>\n",
              "      <th>13</th>\n",
              "      <td>Tiger Woods</td>\n",
              "      <td>0001</td>\n",
              "      <td>0.389197</td>\n",
              "    </tr>\n",
              "    <tr>\n",
              "      <th>14</th>\n",
              "      <td>Tiger Woods</td>\n",
              "      <td>0005</td>\n",
              "      <td>0.389777</td>\n",
              "    </tr>\n",
              "    <tr>\n",
              "      <th>15</th>\n",
              "      <td>Alejandro Toledo</td>\n",
              "      <td>0004</td>\n",
              "      <td>0.396165</td>\n",
              "    </tr>\n",
              "  </tbody>\n",
              "</table>\n",
              "</div>"
            ],
            "text/plain": [
              "          first_name num_imagen VGG-Face_cosine\n",
              "0     Rodolfo Keller       0016        0.093599\n",
              "1     Rodolfo Keller       0011        0.099244\n",
              "2     Rodolfo Keller       0007        0.145168\n",
              "3     Rodolfo Keller       0014        0.157611\n",
              "4     Rodolfo Keller       0012        0.275746\n",
              "5     Rodolfo Keller       0005        0.278280\n",
              "6        Tiger Woods       0007        0.332289\n",
              "7     Rodolfo Keller       0021        0.342757\n",
              "8     Rodolfo Keller       0023        0.348699\n",
              "9     Lleyton Hewitt       0001        0.366537\n",
              "10    Rodolfo Keller       0022        0.385998\n",
              "11       Igor Ivanov       0008        0.386436\n",
              "12      Recep Tayyip       0007        0.388167\n",
              "13       Tiger Woods       0001        0.389197\n",
              "14       Tiger Woods       0005        0.389777\n",
              "15  Alejandro Toledo       0004        0.396165"
            ]
          },
          "execution_count": 14,
          "metadata": {},
          "output_type": "execute_result"
        }
      ],
      "source": [
        "df = FaceRecognition(\"lfw_10_train\\Rodolfo_Keller\\Rodolfo_Keller_0020.jpg\", \"lfw_10_train\")\n",
        "df"
      ]
    },
    {
      "cell_type": "code",
      "execution_count": 15,
      "metadata": {},
      "outputs": [
        {
          "name": "stdout",
          "output_type": "stream",
          "text": [
            "WARNING: Representations for images in lfw_10_train folder were previously stored in representations_vgg_face.pkl. If you added new instances after the creation, then please delete this file and call find function again. It will create it again.\n",
            "There are  685  representations found in  representations_vgg_face.pkl\n",
            "find function lasts  3.06916880607605  seconds\n"
          ]
        },
        {
          "data": {
            "text/html": [
              "<div>\n",
              "<style scoped>\n",
              "    .dataframe tbody tr th:only-of-type {\n",
              "        vertical-align: middle;\n",
              "    }\n",
              "\n",
              "    .dataframe tbody tr th {\n",
              "        vertical-align: top;\n",
              "    }\n",
              "\n",
              "    .dataframe thead th {\n",
              "        text-align: right;\n",
              "    }\n",
              "</style>\n",
              "<table border=\"1\" class=\"dataframe\">\n",
              "  <thead>\n",
              "    <tr style=\"text-align: right;\">\n",
              "      <th></th>\n",
              "      <th>first_name</th>\n",
              "      <th>num_imagen</th>\n",
              "      <th>VGG-Face_cosine</th>\n",
              "    </tr>\n",
              "  </thead>\n",
              "  <tbody>\n",
              "    <tr>\n",
              "      <th>0</th>\n",
              "      <td>George Robertson</td>\n",
              "      <td>0008</td>\n",
              "      <td>0.094469</td>\n",
              "    </tr>\n",
              "    <tr>\n",
              "      <th>1</th>\n",
              "      <td>Rodolfo Keller</td>\n",
              "      <td>0004</td>\n",
              "      <td>0.097254</td>\n",
              "    </tr>\n",
              "    <tr>\n",
              "      <th>2</th>\n",
              "      <td>Alvaro Uribe</td>\n",
              "      <td>0001</td>\n",
              "      <td>0.100246</td>\n",
              "    </tr>\n",
              "    <tr>\n",
              "      <th>3</th>\n",
              "      <td>Rodolfo Keller</td>\n",
              "      <td>0019</td>\n",
              "      <td>0.107259</td>\n",
              "    </tr>\n",
              "    <tr>\n",
              "      <th>4</th>\n",
              "      <td>Angelina Jolie</td>\n",
              "      <td>0004</td>\n",
              "      <td>0.120343</td>\n",
              "    </tr>\n",
              "    <tr>\n",
              "      <th>...</th>\n",
              "      <td>...</td>\n",
              "      <td>...</td>\n",
              "      <td>...</td>\n",
              "    </tr>\n",
              "    <tr>\n",
              "      <th>60</th>\n",
              "      <td>Guillermo Coria</td>\n",
              "      <td>0005</td>\n",
              "      <td>0.392906</td>\n",
              "    </tr>\n",
              "    <tr>\n",
              "      <th>61</th>\n",
              "      <td>Andre Agassi</td>\n",
              "      <td>0005</td>\n",
              "      <td>0.393493</td>\n",
              "    </tr>\n",
              "    <tr>\n",
              "      <th>62</th>\n",
              "      <td>Guillermo Coria</td>\n",
              "      <td>0008</td>\n",
              "      <td>0.394018</td>\n",
              "    </tr>\n",
              "    <tr>\n",
              "      <th>63</th>\n",
              "      <td>Andres Basile</td>\n",
              "      <td>0008</td>\n",
              "      <td>0.399336</td>\n",
              "    </tr>\n",
              "    <tr>\n",
              "      <th>64</th>\n",
              "      <td>Tom Ridge</td>\n",
              "      <td>0009</td>\n",
              "      <td>0.399682</td>\n",
              "    </tr>\n",
              "  </tbody>\n",
              "</table>\n",
              "<p>65 rows × 3 columns</p>\n",
              "</div>"
            ],
            "text/plain": [
              "          first_name num_imagen VGG-Face_cosine\n",
              "0   George Robertson       0008        0.094469\n",
              "1     Rodolfo Keller       0004        0.097254\n",
              "2       Alvaro Uribe       0001        0.100246\n",
              "3     Rodolfo Keller       0019        0.107259\n",
              "4     Angelina Jolie       0004        0.120343\n",
              "..               ...        ...             ...\n",
              "60   Guillermo Coria       0005        0.392906\n",
              "61      Andre Agassi       0005        0.393493\n",
              "62   Guillermo Coria       0008        0.394018\n",
              "63     Andres Basile       0008        0.399336\n",
              "64         Tom Ridge       0009        0.399682\n",
              "\n",
              "[65 rows x 3 columns]"
            ]
          },
          "execution_count": 15,
          "metadata": {},
          "output_type": "execute_result"
        }
      ],
      "source": [
        "df = FaceRecognition(\"lfw_10_train\\Rodolfo_Keller\\Rodolfo_Keller_0001.jpg\", \"lfw_10_train\")\n",
        "df"
      ]
    },
    {
      "cell_type": "code",
      "execution_count": 7,
      "metadata": {},
      "outputs": [
        {
          "name": "stdout",
          "output_type": "stream",
          "text": [
            "WARNING: Representations for images in lfw_10_train folder were previously stored in representations_vgg_face.pkl. If you added new instances after the creation, then please delete this file and call find function again. It will create it again.\n",
            "There are  685  representations found in  representations_vgg_face.pkl\n",
            "find function lasts  3.4672017097473145  seconds\n"
          ]
        },
        {
          "data": {
            "text/html": [
              "<div>\n",
              "<style scoped>\n",
              "    .dataframe tbody tr th:only-of-type {\n",
              "        vertical-align: middle;\n",
              "    }\n",
              "\n",
              "    .dataframe tbody tr th {\n",
              "        vertical-align: top;\n",
              "    }\n",
              "\n",
              "    .dataframe thead th {\n",
              "        text-align: right;\n",
              "    }\n",
              "</style>\n",
              "<table border=\"1\" class=\"dataframe\">\n",
              "  <thead>\n",
              "    <tr style=\"text-align: right;\">\n",
              "      <th></th>\n",
              "      <th>first_name</th>\n",
              "      <th>num_imagen</th>\n",
              "      <th>VGG-Face_cosine</th>\n",
              "    </tr>\n",
              "  </thead>\n",
              "  <tbody>\n",
              "    <tr>\n",
              "      <th>0</th>\n",
              "      <td>Shuai Shen</td>\n",
              "      <td>0002</td>\n",
              "      <td>0.262081</td>\n",
              "    </tr>\n",
              "    <tr>\n",
              "      <th>1</th>\n",
              "      <td>Rodolfo Keller</td>\n",
              "      <td>0011</td>\n",
              "      <td>0.331703</td>\n",
              "    </tr>\n",
              "    <tr>\n",
              "      <th>2</th>\n",
              "      <td>Roh Moo-hyun</td>\n",
              "      <td>0009</td>\n",
              "      <td>0.350297</td>\n",
              "    </tr>\n",
              "    <tr>\n",
              "      <th>3</th>\n",
              "      <td>Rodolfo Keller</td>\n",
              "      <td>0016</td>\n",
              "      <td>0.351693</td>\n",
              "    </tr>\n",
              "    <tr>\n",
              "      <th>4</th>\n",
              "      <td>Roh Moo-hyun</td>\n",
              "      <td>0008</td>\n",
              "      <td>0.355150</td>\n",
              "    </tr>\n",
              "    <tr>\n",
              "      <th>5</th>\n",
              "      <td>Rodolfo Keller</td>\n",
              "      <td>0007</td>\n",
              "      <td>0.366725</td>\n",
              "    </tr>\n",
              "    <tr>\n",
              "      <th>6</th>\n",
              "      <td>Roh Moo-hyun</td>\n",
              "      <td>0004</td>\n",
              "      <td>0.366958</td>\n",
              "    </tr>\n",
              "    <tr>\n",
              "      <th>7</th>\n",
              "      <td>Shuai Shen</td>\n",
              "      <td>0001</td>\n",
              "      <td>0.368182</td>\n",
              "    </tr>\n",
              "    <tr>\n",
              "      <th>8</th>\n",
              "      <td>Tiger Woods</td>\n",
              "      <td>0008</td>\n",
              "      <td>0.372015</td>\n",
              "    </tr>\n",
              "    <tr>\n",
              "      <th>9</th>\n",
              "      <td>Rodolfo Keller</td>\n",
              "      <td>0014</td>\n",
              "      <td>0.372152</td>\n",
              "    </tr>\n",
              "    <tr>\n",
              "      <th>10</th>\n",
              "      <td>Roh Moo-hyun</td>\n",
              "      <td>0010</td>\n",
              "      <td>0.373067</td>\n",
              "    </tr>\n",
              "    <tr>\n",
              "      <th>11</th>\n",
              "      <td>Jose Maria</td>\n",
              "      <td>0004</td>\n",
              "      <td>0.380292</td>\n",
              "    </tr>\n",
              "    <tr>\n",
              "      <th>12</th>\n",
              "      <td>Silvio Berlusconi</td>\n",
              "      <td>0010</td>\n",
              "      <td>0.380637</td>\n",
              "    </tr>\n",
              "    <tr>\n",
              "      <th>13</th>\n",
              "      <td>Roh Moo-hyun</td>\n",
              "      <td>0007</td>\n",
              "      <td>0.380865</td>\n",
              "    </tr>\n",
              "    <tr>\n",
              "      <th>14</th>\n",
              "      <td>Roh Moo-hyun</td>\n",
              "      <td>0001</td>\n",
              "      <td>0.384360</td>\n",
              "    </tr>\n",
              "    <tr>\n",
              "      <th>15</th>\n",
              "      <td>Tiger Woods</td>\n",
              "      <td>0004</td>\n",
              "      <td>0.386121</td>\n",
              "    </tr>\n",
              "    <tr>\n",
              "      <th>16</th>\n",
              "      <td>Rodolfo Keller</td>\n",
              "      <td>0012</td>\n",
              "      <td>0.386286</td>\n",
              "    </tr>\n",
              "    <tr>\n",
              "      <th>17</th>\n",
              "      <td>Tiger Woods</td>\n",
              "      <td>0005</td>\n",
              "      <td>0.386864</td>\n",
              "    </tr>\n",
              "    <tr>\n",
              "      <th>18</th>\n",
              "      <td>Rodolfo Keller</td>\n",
              "      <td>0005</td>\n",
              "      <td>0.394743</td>\n",
              "    </tr>\n",
              "    <tr>\n",
              "      <th>19</th>\n",
              "      <td>Tiger Woods</td>\n",
              "      <td>0007</td>\n",
              "      <td>0.397843</td>\n",
              "    </tr>\n",
              "  </tbody>\n",
              "</table>\n",
              "</div>"
            ],
            "text/plain": [
              "           first_name num_imagen VGG-Face_cosine\n",
              "0          Shuai Shen       0002        0.262081\n",
              "1      Rodolfo Keller       0011        0.331703\n",
              "2        Roh Moo-hyun       0009        0.350297\n",
              "3      Rodolfo Keller       0016        0.351693\n",
              "4        Roh Moo-hyun       0008        0.355150\n",
              "5      Rodolfo Keller       0007        0.366725\n",
              "6        Roh Moo-hyun       0004        0.366958\n",
              "7          Shuai Shen       0001        0.368182\n",
              "8         Tiger Woods       0008        0.372015\n",
              "9      Rodolfo Keller       0014        0.372152\n",
              "10       Roh Moo-hyun       0010        0.373067\n",
              "11         Jose Maria       0004        0.380292\n",
              "12  Silvio Berlusconi       0010        0.380637\n",
              "13       Roh Moo-hyun       0007        0.380865\n",
              "14       Roh Moo-hyun       0001        0.384360\n",
              "15        Tiger Woods       0004        0.386121\n",
              "16     Rodolfo Keller       0012        0.386286\n",
              "17        Tiger Woods       0005        0.386864\n",
              "18     Rodolfo Keller       0005        0.394743\n",
              "19        Tiger Woods       0007        0.397843"
            ]
          },
          "execution_count": 7,
          "metadata": {},
          "output_type": "execute_result"
        }
      ],
      "source": [
        "df = FaceRecognition(\"lfw_10_train\\Shuai_Shen\\Shuai_Shen_0004.jpg\", \"lfw_10_train\")\n",
        "df"
      ]
    },
    {
      "cell_type": "code",
      "execution_count": 74,
      "metadata": {},
      "outputs": [
        {
          "name": "stdout",
          "output_type": "stream",
          "text": [
            "WARNING: Representations for images in lfw_10_train folder were previously stored in representations_vgg_face.pkl. If you added new instances after the creation, then please delete this file and call find function again. It will create it again.\n",
            "There are  685  representations found in  representations_vgg_face.pkl\n",
            "find function lasts  4.526041507720947  seconds\n"
          ]
        },
        {
          "data": {
            "text/html": [
              "<div>\n",
              "<style scoped>\n",
              "    .dataframe tbody tr th:only-of-type {\n",
              "        vertical-align: middle;\n",
              "    }\n",
              "\n",
              "    .dataframe tbody tr th {\n",
              "        vertical-align: top;\n",
              "    }\n",
              "\n",
              "    .dataframe thead th {\n",
              "        text-align: right;\n",
              "    }\n",
              "</style>\n",
              "<table border=\"1\" class=\"dataframe\">\n",
              "  <thead>\n",
              "    <tr style=\"text-align: right;\">\n",
              "      <th></th>\n",
              "      <th>first_name</th>\n",
              "      <th>num_imagen</th>\n",
              "      <th>VGG-Face_cosine</th>\n",
              "    </tr>\n",
              "  </thead>\n",
              "  <tbody>\n",
              "    <tr>\n",
              "      <th>0</th>\n",
              "      <td>Andres Basile</td>\n",
              "      <td>0007</td>\n",
              "      <td>0.000000</td>\n",
              "    </tr>\n",
              "    <tr>\n",
              "      <th>1</th>\n",
              "      <td>Andres Basile</td>\n",
              "      <td>0004</td>\n",
              "      <td>0.154139</td>\n",
              "    </tr>\n",
              "    <tr>\n",
              "      <th>2</th>\n",
              "      <td>Andres Basile</td>\n",
              "      <td>0008</td>\n",
              "      <td>0.336843</td>\n",
              "    </tr>\n",
              "    <tr>\n",
              "      <th>3</th>\n",
              "      <td>Andres Basile</td>\n",
              "      <td>0005</td>\n",
              "      <td>0.342405</td>\n",
              "    </tr>\n",
              "    <tr>\n",
              "      <th>4</th>\n",
              "      <td>Andres Basile</td>\n",
              "      <td>0006</td>\n",
              "      <td>0.370978</td>\n",
              "    </tr>\n",
              "  </tbody>\n",
              "</table>\n",
              "</div>"
            ],
            "text/plain": [
              "      first_name num_imagen VGG-Face_cosine\n",
              "0  Andres Basile       0007        0.000000\n",
              "1  Andres Basile       0004        0.154139\n",
              "2  Andres Basile       0008        0.336843\n",
              "3  Andres Basile       0005        0.342405\n",
              "4  Andres Basile       0006        0.370978"
            ]
          },
          "execution_count": 74,
          "metadata": {},
          "output_type": "execute_result"
        }
      ],
      "source": [
        "df = FaceRecognition(\"lfw_10_train\\Andres_Basile\\Andres_Basile_0007.jpg\", \"lfw_10_train\")\n",
        "df"
      ]
    },
    {
      "cell_type": "code",
      "execution_count": 66,
      "metadata": {},
      "outputs": [
        {
          "name": "stdout",
          "output_type": "stream",
          "text": [
            "WARNING: Representations for images in lfw_10_train folder were previously stored in representations_vgg_face.pkl. If you added new instances after the creation, then please delete this file and call find function again. It will create it again.\n",
            "There are  685  representations found in  representations_vgg_face.pkl\n",
            "find function lasts  1.9493794441223145  seconds\n"
          ]
        },
        {
          "data": {
            "text/html": [
              "<div>\n",
              "<style scoped>\n",
              "    .dataframe tbody tr th:only-of-type {\n",
              "        vertical-align: middle;\n",
              "    }\n",
              "\n",
              "    .dataframe tbody tr th {\n",
              "        vertical-align: top;\n",
              "    }\n",
              "\n",
              "    .dataframe thead th {\n",
              "        text-align: right;\n",
              "    }\n",
              "</style>\n",
              "<table border=\"1\" class=\"dataframe\">\n",
              "  <thead>\n",
              "    <tr style=\"text-align: right;\">\n",
              "      <th></th>\n",
              "      <th>first_name</th>\n",
              "      <th>num_imagen</th>\n",
              "      <th>VGG-Face_cosine</th>\n",
              "    </tr>\n",
              "  </thead>\n",
              "  <tbody>\n",
              "    <tr>\n",
              "      <th>0</th>\n",
              "      <td>Angelina Jolie</td>\n",
              "      <td>0006</td>\n",
              "      <td>0.000000</td>\n",
              "    </tr>\n",
              "    <tr>\n",
              "      <th>1</th>\n",
              "      <td>Angelina Jolie</td>\n",
              "      <td>0003</td>\n",
              "      <td>0.234242</td>\n",
              "    </tr>\n",
              "    <tr>\n",
              "      <th>2</th>\n",
              "      <td>Angelina Jolie</td>\n",
              "      <td>0009</td>\n",
              "      <td>0.306501</td>\n",
              "    </tr>\n",
              "    <tr>\n",
              "      <th>3</th>\n",
              "      <td>Angelina Jolie</td>\n",
              "      <td>0001</td>\n",
              "      <td>0.310170</td>\n",
              "    </tr>\n",
              "    <tr>\n",
              "      <th>4</th>\n",
              "      <td>Angelina Jolie</td>\n",
              "      <td>0005</td>\n",
              "      <td>0.326111</td>\n",
              "    </tr>\n",
              "  </tbody>\n",
              "</table>\n",
              "</div>"
            ],
            "text/plain": [
              "       first_name num_imagen VGG-Face_cosine\n",
              "0  Angelina Jolie       0006        0.000000\n",
              "1  Angelina Jolie       0003        0.234242\n",
              "2  Angelina Jolie       0009        0.306501\n",
              "3  Angelina Jolie       0001        0.310170\n",
              "4  Angelina Jolie       0005        0.326111"
            ]
          },
          "execution_count": 66,
          "metadata": {},
          "output_type": "execute_result"
        }
      ],
      "source": [
        "df = FaceRecognition(\"lfw_10_train\\Angelina_Jolie\\Angelina_Jolie_0006.jpg\", \"lfw_10_train\")\n",
        "df"
      ]
    }
  ],
  "metadata": {
    "accelerator": "GPU",
    "colab": {
      "gpuType": "T4",
      "provenance": []
    },
    "kernelspec": {
      "display_name": "Python 3",
      "name": "python3"
    },
    "language_info": {
      "codemirror_mode": {
        "name": "ipython",
        "version": 3
      },
      "file_extension": ".py",
      "mimetype": "text/x-python",
      "name": "python",
      "nbconvert_exporter": "python",
      "pygments_lexer": "ipython3",
      "version": "3.10.9"
    }
  },
  "nbformat": 4,
  "nbformat_minor": 0
}
